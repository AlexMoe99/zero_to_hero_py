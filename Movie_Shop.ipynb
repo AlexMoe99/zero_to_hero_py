{
 "cells": [
  {
   "cell_type": "code",
   "execution_count": 15,
   "id": "3f4ec5e9",
   "metadata": {},
   "outputs": [],
   "source": [
    "class Movie:\n",
    "    def __init__(self, ID:str, name:str, bought_price:int, rent_price:int, sell_price:int,catalogue_ID:str, genre_ID:str):\n",
    "        self.ID = ID\n",
    "        self.name = name\n",
    "        self.bought_price = bought_price\n",
    "        self.rent_price = rent_price\n",
    "        self.sell_price = sell_price\n",
    "        self.catalogue_ID = catalogue_ID\n",
    "        self.genre_ID = genre_ID\n",
    "        self.sold_count = 0\n",
    "        self.rent_count = 0\n",
    "        \n",
    "    def addSoldCount(self):\n",
    "        self.sold_count += 1\n",
    "    def addRentCount(self):\n",
    "        self.rent_count += 1\n",
    "    def getSellProfit(self):\n",
    "        return int((self.sell_price - self.bought_price) * self.sold_count)\n",
    "    def getRentProfit(self):\n",
    "        return int(self.rent_price * self.rent_count)\n",
    "    def getTotalProfit(self):\n",
    "        return self.getSellProfit() + self.getRentProfit()\n",
    "        "
   ]
  },
  {
   "cell_type": "code",
   "execution_count": 16,
   "id": "f5df8887",
   "metadata": {},
   "outputs": [],
   "source": [
    "m1 = Movie(\"001\", \"Avengers\", 3000, 500, 3500, \"01\", \"01\")\n",
    "m2 = Movie(\"002\", \"Civil War\", 3200, 600, 4000, \"01\",\"01\")"
   ]
  },
  {
   "cell_type": "code",
   "execution_count": 17,
   "id": "6a55ca9e",
   "metadata": {},
   "outputs": [
    {
     "data": {
      "text/plain": [
       "0"
      ]
     },
     "execution_count": 17,
     "metadata": {},
     "output_type": "execute_result"
    }
   ],
   "source": [
    "m1.getSellProfit()"
   ]
  },
  {
   "cell_type": "code",
   "execution_count": 18,
   "id": "db416fd6",
   "metadata": {},
   "outputs": [],
   "source": [
    "m1.addSoldCount()\n",
    "m1.addSoldCount()"
   ]
  },
  {
   "cell_type": "code",
   "execution_count": 19,
   "id": "0a5084fd",
   "metadata": {},
   "outputs": [],
   "source": [
    "m2.addRentCount()\n",
    "m2.addRentCount()"
   ]
  },
  {
   "cell_type": "code",
   "execution_count": 14,
   "id": "71e30bbc",
   "metadata": {},
   "outputs": [
    {
     "data": {
      "text/plain": [
       "1200"
      ]
     },
     "execution_count": 14,
     "metadata": {},
     "output_type": "execute_result"
    }
   ],
   "source": [
    "m2.getRentProfit()"
   ]
  },
  {
   "cell_type": "code",
   "execution_count": 21,
   "id": "a699c044",
   "metadata": {},
   "outputs": [],
   "source": [
    "m2.addSoldCount()\n",
    "m2.addSoldCount()"
   ]
  },
  {
   "cell_type": "code",
   "execution_count": 23,
   "id": "9382e171",
   "metadata": {},
   "outputs": [
    {
     "data": {
      "text/plain": [
       "2800"
      ]
     },
     "execution_count": 23,
     "metadata": {},
     "output_type": "execute_result"
    }
   ],
   "source": [
    "m2.getTotalProfit()"
   ]
  },
  {
   "cell_type": "code",
   "execution_count": 29,
   "id": "c2b27425",
   "metadata": {},
   "outputs": [
    {
     "name": "stdout",
     "output_type": "stream",
     "text": [
      "Requirement already satisfied: numpy in c:\\users\\alexm\\anaconda3\\envs\\alex_python\\lib\\site-packages (1.22.4)\n"
     ]
    }
   ],
   "source": [
    "!pip install numpy"
   ]
  },
  {
   "cell_type": "code",
   "execution_count": 34,
   "id": "4e0bc8aa",
   "metadata": {},
   "outputs": [],
   "source": [
    "import numpy as np\n",
    "class Genre:\n",
    "    def __init__(self,ID:str, name:str):\n",
    "        self.ID = ID\n",
    "        self.name = name\n",
    "        self.movie_list = []\n",
    "        \n",
    "    def addMovie(self,movie : Movie):\n",
    "        self.movie_list.append(movie)\n",
    "        \n",
    "    def getSellProfit(self):\n",
    "        totalSellProfit = []\n",
    "        for i_movie in self.movie_list:\n",
    "            totalSellProfit.append(i_movie.getSellProfit())\n",
    "        return np.sum(totalSellProfit)\n",
    "    \n",
    "    def getRentProfit(self):\n",
    "        totalRentProfit = []\n",
    "        for i_movie in self.movie_list:\n",
    "            totalRentProfit.append(i_movie.getRentProfit())\n",
    "        return np.sum(totalRentProfit)\n",
    "    \n",
    "    def getTotalProfit(self):\n",
    "        return self.getSellProfit() + self.getRentProfit()\n",
    "    \n",
    "    "
   ]
  },
  {
   "cell_type": "code",
   "execution_count": 36,
   "id": "8362ed2b",
   "metadata": {},
   "outputs": [
    {
     "data": {
      "text/plain": [
       "3800"
      ]
     },
     "execution_count": 36,
     "metadata": {},
     "output_type": "execute_result"
    }
   ],
   "source": [
    "g1 = Genre(\"01\", \"action\")\n",
    "g1.addMovie(m1)\n",
    "g1.addMovie(m2)\n",
    "g1.getSellProfit()\n",
    "g1.getRentProfit()\n",
    "g1.getTotalProfit()"
   ]
  },
  {
   "cell_type": "code",
   "execution_count": 53,
   "id": "e7536ad5",
   "metadata": {},
   "outputs": [],
   "source": [
    "class User:\n",
    "    def __init__(self, ID):\n",
    "        self.ID = ID\n",
    "        self.MovieList = []\n",
    "    def rentMovie(self, movie:Movie):\n",
    "        rent1 = BuyOperation(\"01\",\"5-6-2022\",movie.name, \"rent\", movie.rent_price)\n",
    "        self.MovieList.append(rent1)\n",
    "        movie.addRentCount()\n",
    "        \n",
    "        \n",
    "    def buyMovie(self, movie:Movie):\n",
    "        buy1 = BuyOperation(\"01\",\"5-6-2022\",movie.name, \"buy\", movie.sell_price)\n",
    "        self.MovieList.append(buy1)\n",
    "        movie.addSoldCount()\n",
    "        \n",
    "    def checkout(self):\n",
    "        costList = []\n",
    "        for i_movie in self.MovieList:\n",
    "            costList.append(i_movie.price)\n",
    "        return np.sum(costList)"
   ]
  },
  {
   "cell_type": "code",
   "execution_count": 52,
   "id": "78ff11e6",
   "metadata": {},
   "outputs": [],
   "source": [
    "class BuyOperation:\n",
    "    def __init__(self, ID, date,movieName, sell_or_rent, price):\n",
    "        self.ID = ID\n",
    "        self.date = date\n",
    "        self.movieName = movieName\n",
    "        self.sell_or_rent = sell_or_rent\n",
    "        self.price = price\n",
    "        "
   ]
  },
  {
   "cell_type": "code",
   "execution_count": 54,
   "id": "6354121d",
   "metadata": {},
   "outputs": [
    {
     "data": {
      "text/plain": [
       "4500"
      ]
     },
     "execution_count": 54,
     "metadata": {},
     "output_type": "execute_result"
    }
   ],
   "source": [
    "user1 = User(\"1\")\n",
    "user1.rentMovie(m1)\n",
    "user1.buyMovie(m2)\n",
    "user1.checkout()"
   ]
  },
  {
   "cell_type": "code",
   "execution_count": null,
   "id": "44321254",
   "metadata": {},
   "outputs": [],
   "source": []
  }
 ],
 "metadata": {
  "kernelspec": {
   "display_name": "Python 3 (ipykernel)",
   "language": "python",
   "name": "python3"
  },
  "language_info": {
   "codemirror_mode": {
    "name": "ipython",
    "version": 3
   },
   "file_extension": ".py",
   "mimetype": "text/x-python",
   "name": "python",
   "nbconvert_exporter": "python",
   "pygments_lexer": "ipython3",
   "version": "3.8.13"
  }
 },
 "nbformat": 4,
 "nbformat_minor": 5
}
